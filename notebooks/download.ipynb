{
 "cells": [
  {
   "cell_type": "markdown",
   "id": "c49562c4",
   "metadata": {},
   "source": [
    "## Download Datasets"
   ]
  },
  {
   "cell_type": "code",
   "execution_count": null,
   "id": "70a47354",
   "metadata": {},
   "outputs": [],
   "source": [
    "from urllib.request import urlretrieve\n",
    "import os"
   ]
  },
  {
   "cell_type": "code",
   "execution_count": null,
   "id": "63c8d6ce",
   "metadata": {},
   "outputs": [],
   "source": [
    "# go to the `data/raw` directory\n",
    "output_relative_dir = '../data/raw/'\n",
    "\n",
    "# check if the directory exists\n",
    "if not os.path.exists(output_relative_dir):\n",
    "    os.makedirs(output_relative_dir)\n",
    "\n",
    "if not os.path.exists(output_relative_dir + 'tlc_data'):\n",
    "        os.makedirs(output_relative_dir + 'tlc_data')\n",
    "\n",
    "# data output directory is `data/raw/tlc_data/`\n",
    "tlc_output_dir = output_relative_dir + 'tlc_data'\n",
    "\n",
    "URL_TEMPLATE = \"https://d37ci6vzurychx.cloudfront.net/trip-data/fhvhv_tripdata_\""
   ]
  },
  {
   "cell_type": "code",
   "execution_count": null,
   "id": "79951156",
   "metadata": {},
   "outputs": [],
   "source": [
    "def download_data(year, months):\n",
    "    for month in months:\n",
    "        # 0-fill i.e 1 -> 01, 2 -> 02, etc\n",
    "        month = str(month).zfill(2) \n",
    "        print(f\"Begin month {month}\")\n",
    "        \n",
    "        # generate url\n",
    "        url = f'{URL_TEMPLATE}{year}-{month}.parquet'\n",
    "        # generate output location and filename\n",
    "        output_dir = f\"{tlc_output_dir}/{year}-{month}.parquet\"\n",
    "        # download\n",
    "        urlretrieve(url, output_dir) \n",
    "\n",
    "        print(f\"Completed month {month}\")\n",
    "\n",
    "# download high-volume for-hire vehicle trip data from 02/2019 to 07/2019\n",
    "download_data('2019', range(2, 8))"
   ]
  }
 ],
 "metadata": {
  "kernelspec": {
   "display_name": "Python 3.8.8",
   "language": "python",
   "name": "python3"
  },
  "language_info": {
   "codemirror_mode": {
    "name": "ipython",
    "version": 3
   },
   "file_extension": ".py",
   "mimetype": "text/x-python",
   "name": "python",
   "nbconvert_exporter": "python",
   "pygments_lexer": "ipython3",
   "version": "3.8.8"
  },
  "vscode": {
   "interpreter": {
    "hash": "703e593df40508a60fa363339ca2bbb5bae045b0a530fb0e89bc3e7c255f1da9"
   }
  }
 },
 "nbformat": 4,
 "nbformat_minor": 5
}
